{
 "cells": [
  {
   "cell_type": "code",
   "execution_count": 3,
   "id": "b4ba16fd-c185-4cf1-97d7-991e5e68d1c3",
   "metadata": {},
   "outputs": [],
   "source": [
    "class SubfieldsInAI():\n",
    "    def Subfields():\n",
    "        print(\"Sub-fields in AI are:\")\n",
    "        subfields_name = [\"Machine Learning\",\"Neural Networks\",\"Vision\",\"Robotics\",\"Speech Processing\",\"Natural Language Processing\"]\n",
    "        for field in subfields_name:\n",
    "            print(field)"
   ]
  },
  {
   "cell_type": "code",
   "execution_count": 5,
   "id": "181a3dd8-e1f4-4510-ac49-1515a757458e",
   "metadata": {},
   "outputs": [
    {
     "name": "stdout",
     "output_type": "stream",
     "text": [
      "Sub-fields in AI are:\n",
      "Machine Learning\n",
      "Neural Networks\n",
      "Vision\n",
      "Robotics\n",
      "Speech Processing\n",
      "Natural Language Processing\n"
     ]
    }
   ],
   "source": [
    "SubfieldsInAI.Subfields()"
   ]
  },
  {
   "cell_type": "code",
   "execution_count": 7,
   "id": "46c0a2f1-a907-499f-a7ff-200f58f4c78c",
   "metadata": {},
   "outputs": [],
   "source": [
    "class OddEven():\n",
    "    def oddEven():\n",
    "        num=int(input(\"Enter a number:\"))\n",
    "        if ((num % 2) == 0):\n",
    "            print(num,\" is Even number\")        \n",
    "        else:\n",
    "            print(num,\" is Odd number\")"
   ]
  },
  {
   "cell_type": "code",
   "execution_count": 8,
   "id": "e1060ce9-3ee0-4eb2-bc91-3f39a1dcc20d",
   "metadata": {},
   "outputs": [
    {
     "name": "stdin",
     "output_type": "stream",
     "text": [
      "Enter a number: 52452\n"
     ]
    },
    {
     "name": "stdout",
     "output_type": "stream",
     "text": [
      "52452  is Even number\n"
     ]
    }
   ],
   "source": [
    "OddEven.oddEven()"
   ]
  },
  {
   "cell_type": "code",
   "execution_count": 9,
   "id": "1c66b879-37d7-4fa5-b547-c92b2e6c625d",
   "metadata": {},
   "outputs": [],
   "source": [
    "class ElegibilityForMarriage():\n",
    "    def Elegible():\n",
    "        sex=input(\"Your Gender : \")\n",
    "        age=int(input(\"Your Age : \"))\n",
    "        if(sex == 'female' and age<18):\n",
    "            print(\"Not Eligible\")\n",
    "        elif(sex == 'female' and age>=18):\n",
    "            print(\"Eligible\")\n",
    "        elif(sex == 'male' and age<21):\n",
    "            print(\"Not Eligible\")\n",
    "        elif(sex == 'male' and age>21):\n",
    "            print(\"Eligible\")\n",
    "        else:\n",
    "            print(\"Invalid Input\")"
   ]
  },
  {
   "cell_type": "code",
   "execution_count": 13,
   "id": "d30386c7-a89e-4be6-a76e-f7f3de1262e5",
   "metadata": {},
   "outputs": [
    {
     "name": "stdin",
     "output_type": "stream",
     "text": [
      "Your Gender :  male\n",
      "Your Age :  20\n"
     ]
    },
    {
     "name": "stdout",
     "output_type": "stream",
     "text": [
      "Not Eligible\n"
     ]
    }
   ],
   "source": [
    "ElegibilityForMarriage.Elegible()"
   ]
  },
  {
   "cell_type": "code",
   "execution_count": 14,
   "id": "6396b1e9-035f-4c42-9cd9-abb7ec0ac499",
   "metadata": {},
   "outputs": [],
   "source": [
    "class FindPercent():\n",
    "    def percentage():\n",
    "        sub1=int(input(\"Subject1 = \"))\n",
    "        sub2=int(input(\"Subject2 = \"))\n",
    "        sub3=int(input(\"Subject3 = \"))\n",
    "        sub4=int(input(\"Subject4 = \"))\n",
    "        sub5=int(input(\"Subject5 = \"))\n",
    "        total = sub1+sub2+sub3+sub4+sub5\n",
    "        percentage = (total / 500) *100\n",
    "        print(\"Total:\", total)\n",
    "        print(\"Percentage:\", percentage)\n",
    "        "
   ]
  },
  {
   "cell_type": "code",
   "execution_count": 15,
   "id": "4c63e191-ec80-45ba-bb5f-67d2fa91df52",
   "metadata": {},
   "outputs": [
    {
     "name": "stdin",
     "output_type": "stream",
     "text": [
      "Subject1 =  98\n",
      "Subject2 =  87\n",
      "Subject3 =  95\n",
      "Subject4 =  95\n",
      "Subject5 =  93\n"
     ]
    },
    {
     "name": "stdout",
     "output_type": "stream",
     "text": [
      "Total: 468\n",
      "Percentage: 93.60000000000001\n"
     ]
    }
   ],
   "source": [
    "FindPercent.percentage()"
   ]
  },
  {
   "cell_type": "code",
   "execution_count": 2,
   "id": "ae8dfb40-a23b-4d22-b9ad-73c7f6e7dc11",
   "metadata": {},
   "outputs": [],
   "source": [
    "class triangle():\n",
    "    def triangle():\n",
    "        h=int(input(\"Height: \"))\n",
    "        b=int(input(\"Breadth: \"))\n",
    "        area=(h * b) / 2\n",
    "        print(\"Area of Triangle: \",area)\n",
    "        h1=int(input(\"Height1: \"))\n",
    "        h2=int(input(\"Height2: \"))\n",
    "        b1=int(input(\"Breadth: \"))\n",
    "        perimeter = h1+h2+b1\n",
    "        print(\"Perimeter formula: Height1+Height2+Breadth\")\n",
    "        print(\"Perimeter of Triangle \",perimeter)"
   ]
  },
  {
   "cell_type": "code",
   "execution_count": null,
   "id": "d35f8e70-071e-4349-af27-d0ecd8299995",
   "metadata": {},
   "outputs": [],
   "source": [
    "triangle.triangle()"
   ]
  },
  {
   "cell_type": "code",
   "execution_count": null,
   "id": "46595ac7-0591-4818-bfdc-3bb67e6cd455",
   "metadata": {},
   "outputs": [],
   "source": []
  }
 ],
 "metadata": {
  "kernelspec": {
   "display_name": "Python 3 (ipykernel)",
   "language": "python",
   "name": "python3"
  },
  "language_info": {
   "codemirror_mode": {
    "name": "ipython",
    "version": 3
   },
   "file_extension": ".py",
   "mimetype": "text/x-python",
   "name": "python",
   "nbconvert_exporter": "python",
   "pygments_lexer": "ipython3",
   "version": "3.13.5"
  }
 },
 "nbformat": 4,
 "nbformat_minor": 5
}
