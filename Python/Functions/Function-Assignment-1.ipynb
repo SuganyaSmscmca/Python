{
 "cells": [
  {
   "cell_type": "code",
   "execution_count": 45,
   "id": "2e924285-054d-4bf1-89fb-01e3ea4755a5",
   "metadata": {},
   "outputs": [],
   "source": [
    "def Subfields():\n",
    "    print(\"Sub-fields in AI are:\")\n",
    "    subfields_name = [\"Machine Learning\",\"Neural Networks\",\"Vision\",\"Robotics\",\"Speech Processing\",\"Natural Language Processing\"]\n",
    "    for field in subfields_name:\n",
    "        print(field)\n",
    "      "
   ]
  },
  {
   "cell_type": "code",
   "execution_count": 52,
   "id": "ac9544ff-3bf2-4254-8312-e282abce8777",
   "metadata": {},
   "outputs": [
    {
     "name": "stdout",
     "output_type": "stream",
     "text": [
      "Sub-fields in AI are:\n",
      "Machine Learning\n",
      "Neural Networks\n",
      "Vision\n",
      "Robotics\n",
      "Speech Processing\n",
      "Natural Language Processing\n"
     ]
    }
   ],
   "source": [
    "Subfields()"
   ]
  },
  {
   "cell_type": "code",
   "execution_count": 53,
   "id": "bb8e31ec-200f-4c9d-844b-a5bbabc40952",
   "metadata": {},
   "outputs": [],
   "source": [
    "def oddEven():\n",
    "    num=int(input(\"Enter a number:\"))\n",
    "    if ((num % 2) == 0):\n",
    "        print(num,\" is Even number\")        \n",
    "    else:\n",
    "        print(num,\" is Odd number\")\n",
    "        "
   ]
  },
  {
   "cell_type": "code",
   "execution_count": 54,
   "id": "a32e82ed-55dc-4318-ad88-2641e5fffef7",
   "metadata": {},
   "outputs": [
    {
     "name": "stdin",
     "output_type": "stream",
     "text": [
      "Enter a number: 52452\n"
     ]
    },
    {
     "name": "stdout",
     "output_type": "stream",
     "text": [
      "52452  is Even number\n"
     ]
    }
   ],
   "source": [
    "oddEven()"
   ]
  },
  {
   "cell_type": "code",
   "execution_count": 55,
   "id": "253353e0-f509-49d4-9d6e-851197e0d50d",
   "metadata": {},
   "outputs": [],
   "source": [
    "def Elegible():\n",
    "    sex=input(\"Your Gender : \")\n",
    "    age=int(input(\"Your Age : \"))\n",
    "    if(sex == 'female' and age<18):\n",
    "        print(\"Not Eligible\")\n",
    "    elif(sex == 'female' and age>=18):\n",
    "        print(\"Eligible\")\n",
    "    elif(sex == 'male' and age<21):\n",
    "        print(\"Not Eligible\")\n",
    "    elif(sex == 'male' and age>=21):\n",
    "        print(\"Eligible\")\n",
    "    else:\n",
    "        print(\"Invalid Input\")"
   ]
  },
  {
   "cell_type": "code",
   "execution_count": 56,
   "id": "7b353238-1045-4ea9-b19c-8b2099dfd610",
   "metadata": {},
   "outputs": [
    {
     "name": "stdin",
     "output_type": "stream",
     "text": [
      "Your Gender :  male\n",
      "Your Age :  20\n"
     ]
    },
    {
     "name": "stdout",
     "output_type": "stream",
     "text": [
      "Not Eligible\n"
     ]
    }
   ],
   "source": [
    "Elegible()"
   ]
  },
  {
   "cell_type": "code",
   "execution_count": 57,
   "id": "b128acec-588a-41ae-bb38-ed0f5deb6a06",
   "metadata": {},
   "outputs": [],
   "source": [
    "def percentage():\n",
    "    sub1=int(input(\"Subject1 = \"))\n",
    "    sub2=int(input(\"Subject2 = \"))\n",
    "    sub3=int(input(\"Subject3 = \"))\n",
    "    sub4=int(input(\"Subject4 = \"))\n",
    "    sub5=int(input(\"Subject5 = \"))\n",
    "    total = sub1+sub2+sub3+sub4+sub5\n",
    "    percentage = (total / 500) *100\n",
    "    print(\"Total:\", total)\n",
    "    print(\"Percentage:\", percentage)\n",
    "        \n",
    "                 "
   ]
  },
  {
   "cell_type": "code",
   "execution_count": 58,
   "id": "45445c8f-3b99-48ea-ad9f-bf5789f864c3",
   "metadata": {},
   "outputs": [
    {
     "name": "stdin",
     "output_type": "stream",
     "text": [
      "Subject1 =  98\n",
      "Subject2 =  87\n",
      "Subject3 =  95\n",
      "Subject4 =  95\n",
      "Subject5 =  93\n"
     ]
    },
    {
     "name": "stdout",
     "output_type": "stream",
     "text": [
      "Total: 468\n",
      "Percentage: 93.60000000000001\n"
     ]
    }
   ],
   "source": [
    "percentage()"
   ]
  },
  {
   "cell_type": "code",
   "execution_count": 59,
   "id": "137e46da-5433-4927-9a32-5d8412803390",
   "metadata": {},
   "outputs": [],
   "source": [
    "def triangle():\n",
    "    h=int(input(\"Height: \"))\n",
    "    b=int(input(\"Breadth: \"))\n",
    "    area=(h * b) / 2\n",
    "    print(\"Area of Triangle: \",area)\n",
    "    h1=int(input(\"Height1: \"))\n",
    "    h2=int(input(\"Height2: \"))\n",
    "    b1=int(input(\"Breadth: \"))\n",
    "    perimeter = h1+h2+b1\n",
    "    print(\"Perimeter of Triangle \",perimeter)"
   ]
  },
  {
   "cell_type": "code",
   "execution_count": 60,
   "id": "ebbfe60a-75b7-4df0-b7c8-b83711315d7f",
   "metadata": {},
   "outputs": [
    {
     "name": "stdin",
     "output_type": "stream",
     "text": [
      "Height:  32\n",
      "Breadth:  34\n"
     ]
    },
    {
     "name": "stdout",
     "output_type": "stream",
     "text": [
      "Area of Triangle:  544.0\n"
     ]
    },
    {
     "name": "stdin",
     "output_type": "stream",
     "text": [
      "Height1:  2\n",
      "Height2:  4\n",
      "Breadth:  4\n"
     ]
    },
    {
     "name": "stdout",
     "output_type": "stream",
     "text": [
      "Perimeter of Triangle  10\n"
     ]
    }
   ],
   "source": [
    "triangle()"
   ]
  },
  {
   "cell_type": "code",
   "execution_count": null,
   "id": "0ef651b7-45dc-4b96-82ac-9de32356949e",
   "metadata": {},
   "outputs": [],
   "source": []
  }
 ],
 "metadata": {
  "kernelspec": {
   "display_name": "Python 3 (ipykernel)",
   "language": "python",
   "name": "python3"
  },
  "language_info": {
   "codemirror_mode": {
    "name": "ipython",
    "version": 3
   },
   "file_extension": ".py",
   "mimetype": "text/x-python",
   "name": "python",
   "nbconvert_exporter": "python",
   "pygments_lexer": "ipython3",
   "version": "3.13.5"
  }
 },
 "nbformat": 4,
 "nbformat_minor": 5
}
