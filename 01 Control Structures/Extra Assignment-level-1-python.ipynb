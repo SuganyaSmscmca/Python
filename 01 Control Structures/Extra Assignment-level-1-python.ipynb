{
 "cells": [
  {
   "cell_type": "code",
   "execution_count": 1,
   "id": "1b245fff-408d-454b-9dba-ec3523c35724",
   "metadata": {},
   "outputs": [
    {
     "name": "stdout",
     "output_type": "stream",
     "text": [
      "HOPE AI\n"
     ]
    }
   ],
   "source": [
    "print(\"HOPE AI\")"
   ]
  },
  {
   "cell_type": "code",
   "execution_count": 2,
   "id": "c16cb273-be28-4dbc-ac6f-f18351b5e456",
   "metadata": {},
   "outputs": [
    {
     "name": "stdin",
     "output_type": "stream",
     "text": [
      "Enter your institute name? :  HOPE AI\n"
     ]
    }
   ],
   "source": [
    "Institute_name=input(\"Enter your institute name? : \")"
   ]
  },
  {
   "cell_type": "code",
   "execution_count": 4,
   "id": "7f874bd5-6387-4a1f-a9ee-d514bf9f59c4",
   "metadata": {},
   "outputs": [
    {
     "name": "stdin",
     "output_type": "stream",
     "text": [
      "Enter your name:  raj\n",
      "Enter your age:  15\n",
      "Enter your school name:  Guru school\n",
      "Enter your degree:  B.E CSE\n"
     ]
    }
   ],
   "source": [
    "your_name=input(\"Enter your name: \")\n",
    "your_age=input(\"Enter your age: \")\n",
    "your_school=input(\"Enter your school name: \")\n",
    "your_degree=input(\"Enter your degree: \")\n"
   ]
  },
  {
   "cell_type": "code",
   "execution_count": 7,
   "id": "7bd3bdda-c015-4dde-8c84-4152e3c6f8d0",
   "metadata": {},
   "outputs": [
    {
     "name": "stdout",
     "output_type": "stream",
     "text": [
      "a =  43\n",
      "b =  34\n",
      "add =  77\n"
     ]
    }
   ],
   "source": [
    "a= 43\n",
    "b= 34\n",
    "add=a+b\n",
    "print(\"a = \",a)\n",
    "print(\"b = \",b)\n",
    "print(\"add = \",add)"
   ]
  },
  {
   "cell_type": "code",
   "execution_count": 8,
   "id": "15394a0d-4d5d-4608-ab1d-ced33598b5db",
   "metadata": {},
   "outputs": [
    {
     "name": "stdout",
     "output_type": "stream",
     "text": [
      "a =  43\n",
      "b =  34\n",
      "sub =  9\n"
     ]
    }
   ],
   "source": [
    "a= 43\n",
    "b= 34\n",
    "sub=a-b\n",
    "print(\"a = \",a)\n",
    "print(\"b = \",b)\n",
    "print(\"sub = \",sub)"
   ]
  },
  {
   "cell_type": "code",
   "execution_count": 9,
   "id": "c8d6cefc-daf2-436c-ae52-fef73b581d03",
   "metadata": {},
   "outputs": [
    {
     "name": "stdout",
     "output_type": "stream",
     "text": [
      "a =  63\n",
      "b =  97\n",
      "Mul =  6111\n"
     ]
    }
   ],
   "source": [
    "a= 63\n",
    "b= 97\n",
    "mul=a*b\n",
    "print(\"a = \",a)\n",
    "print(\"b = \",b)\n",
    "print(\"Mul = \",mul)"
   ]
  },
  {
   "cell_type": "code",
   "execution_count": 11,
   "id": "dc54be26-d149-4d15-9515-d33d76362b01",
   "metadata": {},
   "outputs": [
    {
     "name": "stdout",
     "output_type": "stream",
     "text": [
      "a =  76\n",
      "b =  31\n",
      "Float Div =  2.4516129032258065\n"
     ]
    }
   ],
   "source": [
    "a= 76\n",
    "b= 31\n",
    "div=float(a/b)\n",
    "print(\"a = \",a)\n",
    "print(\"b = \",b)\n",
    "print(\"Float Div = \",div)"
   ]
  },
  {
   "cell_type": "code",
   "execution_count": 18,
   "id": "028e6557-7442-4edf-accf-14bdaa7d8de7",
   "metadata": {},
   "outputs": [
    {
     "name": "stdout",
     "output_type": "stream",
     "text": [
      "a =  76\n",
      "b =  31\n",
      "Floor Div =  2\n"
     ]
    }
   ],
   "source": [
    "a= 76\n",
    "b= 31\n",
    "floor=int(a/b)\n",
    "print(\"a = \",a)\n",
    "print(\"b = \",b)\n",
    "print(\"Floor Div = \",floor)"
   ]
  },
  {
   "cell_type": "code",
   "execution_count": 23,
   "id": "32d89408-774c-4eed-97db-4ba110133d22",
   "metadata": {},
   "outputs": [
    {
     "name": "stdout",
     "output_type": "stream",
     "text": [
      "a =  76\n",
      "b =  31\n",
      "Modulo =  14\n"
     ]
    }
   ],
   "source": [
    "a= 76\n",
    "b= 31\n",
    "modulo=int(a%b)\n",
    "print(\"a = \",a)\n",
    "print(\"b = \",b)\n",
    "print(\"Modulo = \",modulo)"
   ]
  },
  {
   "cell_type": "code",
   "execution_count": 24,
   "id": "56dc3ba9-5201-4e4c-af11-7961c4f1a8c3",
   "metadata": {},
   "outputs": [
    {
     "name": "stdout",
     "output_type": "stream",
     "text": [
      "a =  4\n",
      "b =  4\n",
      "Power =  256\n"
     ]
    }
   ],
   "source": [
    "a= 4\n",
    "b= 4\n",
    "modulo=int(a**b)\n",
    "print(\"a = \",a)\n",
    "print(\"b = \",b)\n",
    "print(\"Power = \",modulo)"
   ]
  },
  {
   "cell_type": "code",
   "execution_count": null,
   "id": "59c1069b-9aac-4a71-a09e-2e2f44e61388",
   "metadata": {},
   "outputs": [],
   "source": []
  }
 ],
 "metadata": {
  "kernelspec": {
   "display_name": "Python 3 (ipykernel)",
   "language": "python",
   "name": "python3"
  },
  "language_info": {
   "codemirror_mode": {
    "name": "ipython",
    "version": 3
   },
   "file_extension": ".py",
   "mimetype": "text/x-python",
   "name": "python",
   "nbconvert_exporter": "python",
   "pygments_lexer": "ipython3",
   "version": "3.13.5"
  }
 },
 "nbformat": 4,
 "nbformat_minor": 5
}
