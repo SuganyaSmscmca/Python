{
 "cells": [
  {
   "cell_type": "code",
   "execution_count": null,
   "id": "0a541240-e04a-4091-a92d-8770b004ab20",
   "metadata": {},
   "outputs": [],
   "source": [
    "SCENARIO : 1\n",
    "\n",
    "A system checks if a user is eligible to vote based on their age.\n",
    "Write logic to ask the user for their age and determine if they are eligible to vote based on whether they are 18 or older.\n",
    "\n",
    "LOGIC:\n",
    "\n",
    "    1. Read the age from the user\n",
    "    2. Check if the age is greater than or equal \n",
    "        2.1 YES - Eligible\n",
    "        2.2 NO - Not Eligible\n"
   ]
  },
  {
   "cell_type": "code",
   "execution_count": 1,
   "id": "eee07537-020f-433a-9513-cb69bfe79604",
   "metadata": {},
   "outputs": [
    {
     "name": "stdin",
     "output_type": "stream",
     "text": [
      "Enter the age 29\n"
     ]
    },
    {
     "name": "stdout",
     "output_type": "stream",
     "text": [
      "Eligible to vote\n"
     ]
    }
   ],
   "source": [
    "age=int(input(\"Enter the age\"))\n",
    "if age >= 18 :\n",
    "    print(\"Eligible to vote\")\n",
    "else:\n",
    "    print(\"Not Eligible to vote\")"
   ]
  },
  {
   "cell_type": "code",
   "execution_count": null,
   "id": "f5d6ff65-afc5-4090-9373-714128287641",
   "metadata": {},
   "outputs": [],
   "source": [
    "SCENARIO : 2\n",
    "\n",
    "A program processes a list of numbers and needs to find the largest value.\n",
    "Write logic to identify and return the largest number from a given list.\n",
    "\n",
    "LOGIC:\n",
    "\n",
    "    1.Check if the list is empty. If yes, return None.\n",
    "    2.Assume the first number in the list is the largest.\n",
    "    3.Loop through each number in the list:\n",
    "    4.If the current number is greater than the assumed largest, update the largest.\n",
    "    5.After checking all numbers, return the largest value."
   ]
  },
  {
   "cell_type": "code",
   "execution_count": 35,
   "id": "da619423-71a8-4bde-8997-74b7b77c2484",
   "metadata": {},
   "outputs": [],
   "source": [
    "def find_largest_number(numbers):\n",
    "    if not numbers:\n",
    "        return None  \n",
    "\n",
    "    largest = numbers[0]\n",
    "    for num in numbers:\n",
    "        if num > largest:\n",
    "            largest = num\n",
    "    return largest  "
   ]
  },
  {
   "cell_type": "code",
   "execution_count": 37,
   "id": "5b22ed89-5d00-40f1-986c-875d67caf58f",
   "metadata": {},
   "outputs": [
    {
     "name": "stdout",
     "output_type": "stream",
     "text": [
      "Largest number is 89\n"
     ]
    }
   ],
   "source": [
    "numbers = [14, 67, 89, 34, 23]\n",
    "largest = find_largest_number(numbers)\n",
    "print(\"Largest number is\",largest )"
   ]
  },
  {
   "cell_type": "code",
   "execution_count": null,
   "id": "93536d53-f83b-45f0-aa35-8e9c49ded836",
   "metadata": {},
   "outputs": [],
   "source": [
    "SCENARIO : 3\n",
    "\n",
    "A company provides employees with a 10% bonus if their salary exceeds $50,000\n",
    "\n",
    "LOGIC:\n",
    "\n",
    "    1. Read the salary from the user\n",
    "    2. Check if the salary is greater than or equal 50000\n",
    "        2.1 YES - Eligible and calculate the 10% of bonus and round the value\n",
    "        2.2 NO - Not Eligible\n"
   ]
  },
  {
   "cell_type": "code",
   "execution_count": 5,
   "id": "0ede343f-e21d-410a-9909-7a4d79384064",
   "metadata": {},
   "outputs": [
    {
     "name": "stdin",
     "output_type": "stream",
     "text": [
      "Enter the salary 4632\n"
     ]
    },
    {
     "name": "stdout",
     "output_type": "stream",
     "text": [
      "Not Eligible for bonus and your salary is 4632\n"
     ]
    }
   ],
   "source": [
    "sal=int(input(\"Enter the salary\"))\n",
    "if sal >= 50000:\n",
    "    bonus = sal*0.10\n",
    "    salBonus = sal + bonus\n",
    "    print(\"Eligible for 10% bonus that is\",round(bonus))\n",
    "    print(\"Your salary with bonus\", round(salBonus))\n",
    "else:\n",
    "    bonus = sal\n",
    "    print(\"Not Eligible for bonus and your salary is\", round(bonus))"
   ]
  },
  {
   "cell_type": "code",
   "execution_count": null,
   "id": "4d75e30d-f17b-41a3-92d5-c64a609d785f",
   "metadata": {},
   "outputs": [],
   "source": [
    "SCENARIO : 4\n",
    "\n",
    "A program evaluates a number to determine if it is even or odd.\n",
    "Write logic to check whether a given number is even or odd.\n",
    "\n",
    "LOGIC:\n",
    "\n",
    "    1. Read the number from the user\n",
    "    2. Check if the number is divisible by 2 \n",
    "        2.1 YES --> Odd Number \n",
    "        2.2 NO --> Even Number \n"
   ]
  },
  {
   "cell_type": "code",
   "execution_count": 6,
   "id": "d9247a26-683a-4a9e-86cc-4734e1fe47ae",
   "metadata": {},
   "outputs": [
    {
     "name": "stdin",
     "output_type": "stream",
     "text": [
      "Enter the number 456\n"
     ]
    },
    {
     "name": "stdout",
     "output_type": "stream",
     "text": [
      "Even Number\n"
     ]
    }
   ],
   "source": [
    "num=int(input(\"Enter the number\"))\n",
    "if num % 2 == 1:\n",
    "    print(\"Odd Number\")\n",
    "else:\n",
    "    print(\"Even Number\")"
   ]
  },
  {
   "cell_type": "code",
   "execution_count": null,
   "id": "da2ff6ad-3ec5-49e6-acd8-3c75e0bbd48d",
   "metadata": {},
   "outputs": [],
   "source": [
    "SCENARIO : 5\n",
    "\n",
    "A text-processing tool reverses a given word or sentence for formatting purposes.\n",
    "\n",
    "LOGIC:\n",
    "\n",
    "    1. Read the text from the user\n",
    "    2. write the logic for reverse text\n",
    "    3. Print the reverese text"
   ]
  },
  {
   "cell_type": "code",
   "execution_count": 7,
   "id": "a9978ea6-b669-43e9-a845-c3758ba39f43",
   "metadata": {},
   "outputs": [
    {
     "name": "stdin",
     "output_type": "stream",
     "text": [
      "Enter the Text HOPE LEARNING\n"
     ]
    },
    {
     "name": "stdout",
     "output_type": "stream",
     "text": [
      "Reversed: GNINRAEL EPOH\n"
     ]
    }
   ],
   "source": [
    "text=input(\"Enter the Text\")\n",
    "reversed_text = text[::-1]   #REVERSE THE TEXT\n",
    "print(\"Reversed:\", reversed_text)\n"
   ]
  },
  {
   "cell_type": "code",
   "execution_count": null,
   "id": "eb795a9c-d410-4ab6-9dc2-a792302018c3",
   "metadata": {},
   "outputs": [],
   "source": [
    "SCENARIO : 6\n",
    "\n",
    "A grading system determines whether a student has passed or failed based on their score.\n",
    "\n",
    "LOGIC:\n",
    "    1. Read the Mark from the user\n",
    "    2. Check if the Mark is greater than or equal to 40\n",
    "        2.1 YES --> PASS \n",
    "        2.2 NO --> FAIL"
   ]
  },
  {
   "cell_type": "code",
   "execution_count": 8,
   "id": "749eb59e-9314-45d7-a03c-ba7ad30a4251",
   "metadata": {},
   "outputs": [
    {
     "name": "stdin",
     "output_type": "stream",
     "text": [
      "Enter the Mark 56\n"
     ]
    },
    {
     "name": "stdout",
     "output_type": "stream",
     "text": [
      "PASS\n"
     ]
    }
   ],
   "source": [
    "mark=int(input(\"Enter the Mark\"))\n",
    "if mark >= 40:\n",
    "    print(\"PASS\")\n",
    "else:\n",
    "    print(\"FAIL\")"
   ]
  },
  {
   "cell_type": "code",
   "execution_count": null,
   "id": "7ac2a7f3-c561-45ee-9b24-bd3891857e47",
   "metadata": {},
   "outputs": [],
   "source": [
    "SCENARIO : 7\n",
    "\n",
    "A retail store offers a 20% discount if a customer’s total order exceeds $100.\n",
    "\n",
    "LOGIC:\n",
    "\n",
    "    1. Read the bill amount from the user\n",
    "    2. Check if the bill amount is greater than or equal 100\n",
    "        2.1 YES - Eligible and calculate the 20% of bonus and round the value\n",
    "        2.2 NO - Not Eligible\n"
   ]
  },
  {
   "cell_type": "code",
   "execution_count": 13,
   "id": "091e4b3b-5715-4c2a-b935-afadcf783b4e",
   "metadata": {},
   "outputs": [
    {
     "name": "stdin",
     "output_type": "stream",
     "text": [
      "Enter the Bill Amount 1000\n"
     ]
    },
    {
     "name": "stdout",
     "output_type": "stream",
     "text": [
      "Discount amount 200.0\n",
      "Eligible for 20% discount that is 800\n"
     ]
    }
   ],
   "source": [
    "bill_amount=int(input(\"Enter the Bill Amount\"))\n",
    "if bill_amount >= 100:\n",
    "    discount = bill_amount*0.20\n",
    "    total = bill_amount-discount\n",
    "    print(\"Discount amount\",discount)\n",
    "    print(\"Eligible for 20% discount that is\",round(total))\n",
    "else:\n",
    "    total = bill_amount\n",
    "    print(\"Not Eligible for 20% discount\", round(total))"
   ]
  },
  {
   "cell_type": "code",
   "execution_count": null,
   "id": "275bdc77-5c4e-437e-8181-a1bba9b80ee4",
   "metadata": {},
   "outputs": [],
   "source": [
    "SCENARIO : 8\n",
    "\n",
    "A banking system processes withdrawal requests and ensures the user has enough balance.\n",
    "\n",
    "LOGIC:\n",
    "\n",
    "    1. Read the account balance and withdrawal amount from the user\n",
    "    2. Check if account balance is greater than withdrawal amount\n",
    "        2.1 YES - Eligible and calculate [Balance amount in bank = account balance - withdrawal amount]\n",
    "        2.2 NO - Insufficient fund"
   ]
  },
  {
   "cell_type": "code",
   "execution_count": 14,
   "id": "da6d6e59-18f0-4509-8ef3-fc851c73f040",
   "metadata": {},
   "outputs": [
    {
     "name": "stdin",
     "output_type": "stream",
     "text": [
      "Enter the amount that should be withdrawal 2658\n"
     ]
    },
    {
     "name": "stdout",
     "output_type": "stream",
     "text": [
      "Balance amount in bank 2342\n"
     ]
    }
   ],
   "source": [
    "balanceINacc=5000\n",
    "withdrawal=int(input(\"Enter the amount that should be withdrawal\"))\n",
    "if balanceINacc > withdrawal:\n",
    "    balance=balanceINacc-withdrawal\n",
    "    print(\"Balance amount in bank\",balance)\n",
    "else:\n",
    "    print(\"Insufficient fund\")"
   ]
  },
  {
   "cell_type": "code",
   "execution_count": null,
   "id": "f1b71066-d488-4d4a-8109-7078a52c31b4",
   "metadata": {},
   "outputs": [],
   "source": [
    "SCENARIO : 9\n",
    "\n",
    "A calendar system verifies whether a given year is a leap year based on standard leap year rules.\n",
    "\n",
    "LOGIC:\n",
    "\n",
    "    1. Read the year from the user\n",
    "    2. Check if it is divisible by 4 and not divisible by 100, or A year is divisible by 400.\n",
    "        2.1 YES - LEAP YEAR\n",
    "        2.2 NO - NON LEAP YEAR\n",
    "    "
   ]
  },
  {
   "cell_type": "code",
   "execution_count": 15,
   "id": "3a2f1a27-1220-4b10-96c3-2b7bb448bf44",
   "metadata": {},
   "outputs": [
    {
     "name": "stdin",
     "output_type": "stream",
     "text": [
      "Enter the Year 1933\n"
     ]
    },
    {
     "name": "stdout",
     "output_type": "stream",
     "text": [
      "1933 is not a leap year\n"
     ]
    }
   ],
   "source": [
    "year=int(input(\"Enter the Year\"))\n",
    "if (year % 4 == 0 and year % 100 != 0) or (year % 400 == 0):\n",
    "    print(year, \"is a leap year\")\n",
    "else:\n",
    "    print(year, \"is not a leap year\")"
   ]
  },
  {
   "cell_type": "code",
   "execution_count": null,
   "id": "ac8668e7-836e-4876-9fa8-42d85d45da56",
   "metadata": {},
   "outputs": [],
   "source": [
    "SCENARIO : 10\n",
    "\n",
    "A program filters out only even numbers from a given list.\n",
    "\n",
    "LOGIC:\n",
    "\n",
    "    1.\tRead the list of numbers.\n",
    "    2.\tCreate an empty list to store even numbers.\n",
    "    3.\tIterate through the list and check if each number is divisible by 2.\n",
    "    4.\tIf divisible, add the number to the new list.\n",
    "    5.\tReturn the list of even numbers.\n"
   ]
  },
  {
   "cell_type": "code",
   "execution_count": 16,
   "id": "4b169b4f-e522-4b52-b456-42a5e0762d8d",
   "metadata": {},
   "outputs": [
    {
     "name": "stdout",
     "output_type": "stream",
     "text": [
      "Even numbers: [10, 22, 40]\n"
     ]
    }
   ],
   "source": [
    "numbers = [10, 15, 22, 33, 40, 55]\n",
    "even_numbers = []\n",
    "for num in numbers:\n",
    "    if num % 2 == 0:\n",
    "        even_numbers.append(num)  \n",
    "print(\"Even numbers:\", even_numbers)"
   ]
  },
  {
   "cell_type": "code",
   "execution_count": null,
   "id": "93e4ff0d-3747-4d81-8222-86689cf2c43c",
   "metadata": {},
   "outputs": [],
   "source": []
  }
 ],
 "metadata": {
  "kernelspec": {
   "display_name": "Python 3 (ipykernel)",
   "language": "python",
   "name": "python3"
  },
  "language_info": {
   "codemirror_mode": {
    "name": "ipython",
    "version": 3
   },
   "file_extension": ".py",
   "mimetype": "text/x-python",
   "name": "python",
   "nbconvert_exporter": "python",
   "pygments_lexer": "ipython3",
   "version": "3.13.5"
  }
 },
 "nbformat": 4,
 "nbformat_minor": 5
}
